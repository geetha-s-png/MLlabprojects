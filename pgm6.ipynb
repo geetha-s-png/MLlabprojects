{
 "cells": [
  {
   "cell_type": "code",
   "execution_count": 1,
   "metadata": {},
   "outputs": [
    {
     "name": "stdout",
     "output_type": "stream",
     "text": [
      "The dimensions of the dataset (18, 2)\n",
      "\n",
      " the total number of Training Data : (13,)\n",
      "\n",
      " the total number of Test Data : (5,)\n",
      "\n",
      " The words or Tokens in the text documents \n",
      "\n",
      "['am', 'amazing', 'an', 'and', 'awesome', 'bad', 'best', 'can', 'dance', 'deal', 'do', 'enemy', 'fun', 'good', 'great', 'have', 'he', 'holiday', 'house', 'is', 'juice', 'like', 'locality', 'love', 'my', 'not', 'of', 'place', 'sandwich', 'sick', 'stay', 'sworn', 'taste', 'that', 'the', 'this', 'tired', 'to', 'today', 'tomorrow', 'view', 'we', 'went', 'what', 'will', 'with', 'work']\n",
      "\n",
      " Accuracy of the classifier is 1.0\n",
      "\n",
      " Confusion matrix\n",
      "[[3 0]\n",
      " [0 2]]\n",
      "\n",
      " The value of Precision 1.0\n",
      "\n",
      " The value of Recall 1.0\n"
     ]
    }
   ],
   "source": [
    "import pandas as pd\n",
    "from sklearn.model_selection import train_test_split\n",
    "from sklearn.feature_extraction.text import CountVectorizer\n",
    "from sklearn.naive_bayes import MultinomialNB\n",
    "from sklearn import metrics\n",
    "\n",
    "msg=pd.read_csv('naivetext.csv',names=['message','label'])\n",
    "\n",
    "print('The dimensions of the dataset',msg.shape)\n",
    "\n",
    "msg['labelnum']=msg.label.map({'pos':1,'neg':0})\n",
    "X=msg.message\n",
    "y=msg.labelnum\n",
    "\n",
    "#splitting the dataset into train and test data\n",
    "xtrain,xtest,ytrain,ytest=train_test_split(X,y)\n",
    "print ('\\n the total number of Training Data :',ytrain.shape)\n",
    "print ('\\n the total number of Test Data :',ytest.shape)\n",
    "\n",
    "\n",
    "#output the words or Tokens in the text documents\n",
    "cv = CountVectorizer()\n",
    "xtrain_dtm = cv.fit_transform(xtrain)\n",
    "xtest_dtm=cv.transform(xtest)\n",
    "print('\\n The words or Tokens in the text documents \\n')\n",
    "print(cv.get_feature_names())\n",
    "df=pd.DataFrame(xtrain_dtm.toarray(),columns=cv.get_feature_names())\n",
    "\n",
    "# Training Naive Bayes (NB) classifier on training data.\n",
    "clf = MultinomialNB().fit(xtrain_dtm,ytrain)\n",
    "predicted = clf.predict(xtest_dtm)\n",
    "\n",
    "#printing accuracy, Confusion matrix, Precision and Recall\n",
    "print('\\n Accuracy of the classifier is',metrics.accuracy_score(ytest,predicted))\n",
    "print('\\n Confusion matrix')\n",
    "print(metrics.confusion_matrix(ytest,predicted))\n",
    "print('\\n The value of Precision', metrics.precision_score(ytest,predicted))\n",
    "print('\\n The value of Recall', metrics.recall_score(ytest,predicted))\n",
    "\n"
   ]
  },
  {
   "cell_type": "code",
   "execution_count": null,
   "metadata": {},
   "outputs": [],
   "source": []
  },
  {
   "cell_type": "code",
   "execution_count": null,
   "metadata": {},
   "outputs": [],
   "source": []
  }
 ],
 "metadata": {
  "kernelspec": {
   "display_name": "Python 3",
   "language": "python",
   "name": "python3"
  },
  "language_info": {
   "codemirror_mode": {
    "name": "ipython",
    "version": 3
   },
   "file_extension": ".py",
   "mimetype": "text/x-python",
   "name": "python",
   "nbconvert_exporter": "python",
   "pygments_lexer": "ipython3",
   "version": "3.8.5"
  }
 },
 "nbformat": 4,
 "nbformat_minor": 4
}
