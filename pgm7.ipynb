{
 "cells": [
  {
   "cell_type": "code",
   "execution_count": 3,
   "metadata": {},
   "outputs": [
    {
     "name": "stdout",
     "output_type": "stream",
     "text": [
      "Sample instances from the dataset are given below\n",
      "   age  sex  cp  trestbps  chol  fbs  restecg  thalach  exang  oldpeak  slope  \\\n",
      "0   63    1   1       145   233    1        2      150      0      2.3      3   \n",
      "1   67    1   4       160   286    0        2      108      1      1.5      2   \n",
      "2   67    1   4       120   229    0        2      129      1      2.6      2   \n",
      "3   37    1   3       130   250    0        0      187      0      3.5      3   \n",
      "4   41    0   2       130   204    0        2      172      0      1.4      1   \n",
      "\n",
      "  ca thal  heartdisease  \n",
      "0  0    6             0  \n",
      "1  3    3             2  \n",
      "2  2    7             1  \n",
      "3  0    3             0  \n",
      "4  0    3             0  \n",
      "\n",
      " Attributes and datatypes\n",
      "age               int64\n",
      "sex               int64\n",
      "cp                int64\n",
      "trestbps          int64\n",
      "chol              int64\n",
      "fbs               int64\n",
      "restecg           int64\n",
      "thalach           int64\n",
      "exang             int64\n",
      "oldpeak         float64\n",
      "slope             int64\n",
      "ca               object\n",
      "thal             object\n",
      "heartdisease      int64\n",
      "dtype: object\n",
      "\n",
      " Learning CPD using Maximum likelihood estimators\n"
     ]
    },
    {
     "name": "stderr",
     "output_type": "stream",
     "text": [
      "Finding Elimination Order: :   0%|                                                               | 0/5 [00:00<?, ?it/s]\n",
      "  0%|                                                                                            | 0/5 [00:00<?, ?it/s]\u001b[A\n",
      "Finding Elimination Order: : 100%|██████████████████████████████████████████████████████| 5/5 [00:00<00:00, 193.49it/s]\u001b[A"
     ]
    },
    {
     "name": "stdout",
     "output_type": "stream",
     "text": [
      "\n",
      " Inferencing with Bayesian Network:\n",
      "\n",
      " 1.Probability of HeartDisease given evidence=restecg :1\n"
     ]
    },
    {
     "name": "stderr",
     "output_type": "stream",
     "text": [
      "\n",
      "\n",
      "Eliminating: cp:   0%|                                                                           | 0/5 [00:00<?, ?it/s]\u001b[A\n",
      "Eliminating: age:   0%|                                                                          | 0/5 [00:00<?, ?it/s]\u001b[A\n",
      "Eliminating: chol:   0%|                                                                         | 0/5 [00:00<?, ?it/s]\u001b[A\n",
      "Eliminating: exang:   0%|                                                                        | 0/5 [00:00<?, ?it/s]\u001b[A\n",
      "Eliminating: exang: 100%|████████████████████████████████████████████████████████████████| 5/5 [00:00<00:00, 43.22it/s]\u001b[A\n"
     ]
    },
    {
     "name": "stdout",
     "output_type": "stream",
     "text": [
      "+-----------------+---------------------+\n",
      "| heartdisease    |   phi(heartdisease) |\n",
      "+=================+=====================+\n",
      "| heartdisease(0) |              0.1012 |\n",
      "+-----------------+---------------------+\n",
      "| heartdisease(1) |              0.0000 |\n",
      "+-----------------+---------------------+\n",
      "| heartdisease(2) |              0.2392 |\n",
      "+-----------------+---------------------+\n",
      "| heartdisease(3) |              0.2015 |\n",
      "+-----------------+---------------------+\n",
      "| heartdisease(4) |              0.4581 |\n",
      "+-----------------+---------------------+\n",
      "\n",
      " 2.Probability of HeartDisease given evidence= cp:2 \n"
     ]
    },
    {
     "name": "stderr",
     "output_type": "stream",
     "text": [
      "Finding Elimination Order: :   0%|                                                               | 0/5 [00:00<?, ?it/s]\n",
      "  0%|                                                                                            | 0/5 [00:00<?, ?it/s]\u001b[A\n",
      "Finding Elimination Order: : 100%|██████████████████████████████████████████████████████| 5/5 [00:00<00:00, 131.92it/s]\u001b[A\n",
      "\n",
      "Eliminating: restecg:   0%|                                                                      | 0/5 [00:00<?, ?it/s]\u001b[A\n",
      "Eliminating: age:   0%|                                                                          | 0/5 [00:00<?, ?it/s]\u001b[A\n",
      "Eliminating: chol:   0%|                                                                         | 0/5 [00:00<?, ?it/s]\u001b[A\n",
      "Eliminating: chol:  80%|████████████████████████████████████████████████████             | 4/5 [00:00<00:00, 38.20it/s]\u001b[A\n",
      "Eliminating: exang: 100%|████████████████████████████████████████████████████████████████| 5/5 [00:00<00:00, 41.43it/s]\u001b[A"
     ]
    },
    {
     "name": "stdout",
     "output_type": "stream",
     "text": [
      "+-----------------+---------------------+\n",
      "| heartdisease    |   phi(heartdisease) |\n",
      "+=================+=====================+\n",
      "| heartdisease(0) |              0.3610 |\n",
      "+-----------------+---------------------+\n",
      "| heartdisease(1) |              0.2159 |\n",
      "+-----------------+---------------------+\n",
      "| heartdisease(2) |              0.1373 |\n",
      "+-----------------+---------------------+\n",
      "| heartdisease(3) |              0.1537 |\n",
      "+-----------------+---------------------+\n",
      "| heartdisease(4) |              0.1321 |\n",
      "+-----------------+---------------------+\n"
     ]
    },
    {
     "name": "stderr",
     "output_type": "stream",
     "text": [
      "\n"
     ]
    }
   ],
   "source": [
    "\n",
    "import numpy as np\n",
    "import pandas as pd\n",
    "import csv\n",
    "from pgmpy.estimators import MaximumLikelihoodEstimator\n",
    "from pgmpy.models import BayesianModel\n",
    "from pgmpy.inference import VariableElimination\n",
    "#read Cleveland Heart Disease data\n",
    "heartDisease = pd.read_csv('heart.csv')\n",
    "heartDisease = heartDisease.replace('?',np.nan)\n",
    "#display the data\n",
    "print('Sample instances from the dataset are given below')\n",
    "print(heartDisease.head())\n",
    "#display the Attributes names and datatyes\n",
    "print('\\n Attributes and datatypes')\n",
    "print(heartDisease.dtypes)\n",
    "#Creat Model- Bayesian Network\n",
    "model =BayesianModel([('age','heartdisease'),('sex','heartdisease'),('exang','heartdisease'),('cp','heartdisease'),('heartdisease',\n",
    "'restecg'),('heartdisease','chol')])\n",
    "#Learning CPDs using Maximum Likelihood Estimators\n",
    "print('\\n Learning CPD using Maximum likelihood estimators')\n",
    "model.fit(heartDisease,estimator=MaximumLikelihoodEstimator)\n",
    "# Inferencing with Bayesian Network\n",
    "print('\\n Inferencing with Bayesian Network:')\n",
    "HeartDiseasetest_infer = VariableElimination(model)\n",
    "#computing the Probability of HeartDisease given restecg\n",
    "print('\\n 1.Probability of HeartDisease given evidence=restecg :1')\n",
    "q1=HeartDiseasetest_infer.query(variables=['heartdisease'],evidence={'restecg':1})\n",
    "print(q1)\n",
    "#computing the Probability of HeartDisease given cp\n",
    "print('\\n 2.Probability of HeartDisease given evidence= cp:2 ')\n",
    "q2=HeartDiseasetest_infer.query(variables=['heartdisease'],evidence={'cp':2})\n",
    "print(q2)\n",
    "\n",
    "\n",
    "\n",
    "\n"
   ]
  },
  {
   "cell_type": "code",
   "execution_count": null,
   "metadata": {},
   "outputs": [],
   "source": [
    "!pip instal pandas"
   ]
  },
  {
   "cell_type": "code",
   "execution_count": null,
   "metadata": {},
   "outputs": [],
   "source": [
    "!pip install pandas"
   ]
  },
  {
   "cell_type": "code",
   "execution_count": null,
   "metadata": {},
   "outputs": [],
   "source": [
    "pip install pgmpy\n"
   ]
  },
  {
   "cell_type": "code",
   "execution_count": 2,
   "metadata": {},
   "outputs": [
    {
     "name": "stdout",
     "output_type": "stream",
     "text": [
      "Collecting pgmpy\n",
      "  Using cached pgmpy-0.1.13-py3-none-any.whl (324 kB)\n",
      "Requirement already satisfied: networkx in d:\\users\\user\\anaconda3\\lib\\site-packages (from pgmpy) (2.5)\n",
      "Collecting torch\n",
      "  Downloading torch-1.7.1-cp38-cp38-win_amd64.whl (184.0 MB)\n",
      "Requirement already satisfied: scipy in d:\\users\\user\\anaconda3\\lib\\site-packages (from pgmpy) (1.5.2)\n",
      "Requirement already satisfied: pyparsing in d:\\users\\user\\anaconda3\\lib\\site-packages (from pgmpy) (2.4.7)\n",
      "Requirement already satisfied: joblib in d:\\users\\user\\anaconda3\\lib\\site-packages (from pgmpy) (0.17.0)\n",
      "Requirement already satisfied: numpy in d:\\users\\user\\anaconda3\\lib\\site-packages (from pgmpy) (1.19.2)\n",
      "Requirement already satisfied: tqdm in d:\\users\\user\\anaconda3\\lib\\site-packages (from pgmpy) (4.50.2)\n",
      "Requirement already satisfied: statsmodels in d:\\users\\user\\anaconda3\\lib\\site-packages (from pgmpy) (0.12.0)\n",
      "Requirement already satisfied: scikit-learn in d:\\users\\user\\anaconda3\\lib\\site-packages (from pgmpy) (0.23.2)\n",
      "Requirement already satisfied: pandas in d:\\users\\user\\anaconda3\\lib\\site-packages (from pgmpy) (1.1.3)\n",
      "Requirement already satisfied: decorator>=4.3.0 in d:\\users\\user\\anaconda3\\lib\\site-packages (from networkx->pgmpy) (4.4.2)\n",
      "Requirement already satisfied: typing-extensions in d:\\users\\user\\anaconda3\\lib\\site-packages (from torch->pgmpy) (3.7.4.3)\n",
      "Requirement already satisfied: patsy>=0.5 in d:\\users\\user\\anaconda3\\lib\\site-packages (from statsmodels->pgmpy) (0.5.1)\n",
      "Requirement already satisfied: threadpoolctl>=2.0.0 in d:\\users\\user\\anaconda3\\lib\\site-packages (from scikit-learn->pgmpy) (2.1.0)\n",
      "Requirement already satisfied: python-dateutil>=2.7.3 in d:\\users\\user\\anaconda3\\lib\\site-packages (from pandas->pgmpy) (2.8.1)\n",
      "Requirement already satisfied: pytz>=2017.2 in d:\\users\\user\\anaconda3\\lib\\site-packages (from pandas->pgmpy) (2020.1)\n",
      "Requirement already satisfied: six in d:\\users\\user\\anaconda3\\lib\\site-packages (from patsy>=0.5->statsmodels->pgmpy) (1.15.0)\n",
      "Installing collected packages: torch, pgmpy\n",
      "Successfully installed pgmpy-0.1.13 torch-1.7.1\n"
     ]
    }
   ],
   "source": [
    "!pip install pgmpy"
   ]
  },
  {
   "cell_type": "code",
   "execution_count": null,
   "metadata": {},
   "outputs": [],
   "source": []
  }
 ],
 "metadata": {
  "kernelspec": {
   "display_name": "Python 3",
   "language": "python",
   "name": "python3"
  },
  "language_info": {
   "codemirror_mode": {
    "name": "ipython",
    "version": 3
   },
   "file_extension": ".py",
   "mimetype": "text/x-python",
   "name": "python",
   "nbconvert_exporter": "python",
   "pygments_lexer": "ipython3",
   "version": "3.8.5"
  }
 },
 "nbformat": 4,
 "nbformat_minor": 4
}
